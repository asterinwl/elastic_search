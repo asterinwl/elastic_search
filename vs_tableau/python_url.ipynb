{
 "cells": [
  {
   "cell_type": "code",
   "execution_count": 1,
   "id": "692e40f0-e2aa-4bcf-ae03-a0ebd1d5088d",
   "metadata": {},
   "outputs": [
    {
     "name": "stdout",
     "output_type": "stream",
     "text": [
      "text/plain; charset=utf-8\n"
     ]
    }
   ],
   "source": [
    "import requests\n",
    "url='https://raw.githubusercontent.com/asterinwl/Hydrogen-car_teamproject3/master/raw1.0.2/%EB%81%9D/total_coor.csv'\n",
    "r=requests.get(url,allow_redirects=True)\n",
    "open('urldata.csv','wb').write(r.content)\n",
    "r = requests.get(url, allow_redirects=True)\n",
    "print (r.headers.get('content-type'))\n",
    "\n",
    "## url에서 받은 코드를 scv형태로 저장하는 코드\n",
    "## 'urldata.csv'꼴로 저장하게 된다."
   ]
  }
 ],
 "metadata": {
  "kernelspec": {
   "display_name": "mongta",
   "language": "python",
   "name": "mongta"
  },
  "language_info": {
   "codemirror_mode": {
    "name": "ipython",
    "version": 3
   },
   "file_extension": ".py",
   "mimetype": "text/x-python",
   "name": "python",
   "nbconvert_exporter": "python",
   "pygments_lexer": "ipython3",
   "version": "3.8.12"
  }
 },
 "nbformat": 4,
 "nbformat_minor": 5
}

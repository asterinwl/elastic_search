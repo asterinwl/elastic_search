{
 "cells": [
  {
   "cell_type": "code",
   "execution_count": 1,
   "id": "d76d1b93-39b0-4755-b2f1-10dd8f09030f",
   "metadata": {},
   "outputs": [],
   "source": [
    "import pandas as pd\n",
    "info=pd.read_csv('urldata.csv')"
   ]
  },
  {
   "cell_type": "code",
   "execution_count": 2,
   "id": "29cae086-19a9-4470-b832-ba314097097c",
   "metadata": {},
   "outputs": [],
   "source": [
    "from elasticsearch import helpers,Elasticsearch\n",
    "import requests\n",
    "import csv\n",
    "\n",
    "directory_path = 'path'\n",
    "res = requests.get('http://localhost:9200')\n",
    "es = Elasticsearch([{'host':'localhost','port':'9200'}])"
   ]
  },
  {
   "cell_type": "code",
   "execution_count": 3,
   "id": "cc6fc21c-d8d4-4c64-8987-82871187c67e",
   "metadata": {},
   "outputs": [
    {
     "name": "stderr",
     "output_type": "stream",
     "text": [
      "C:\\Users\\MongTa\\AppData\\Local\\Temp/ipykernel_13468/3508290505.py:1: DeprecationWarning: The 'body' parameter is deprecated for the 'create' API and will be removed in a future version. Instead use API parameters directly. See https://github.com/elastic/elasticsearch-py/issues/1698 for more information\n",
      "  es.indices.create(\n",
      "D:\\Anaconda\\envs\\mongta\\lib\\site-packages\\elasticsearch\\connection\\base.py:209: ElasticsearchWarning: Elasticsearch built-in security features are not enabled. Without authentication, your cluster could be accessible to anyone. See https://www.elastic.co/guide/en/elasticsearch/reference/7.15/security-minimal-setup.html to enable security.\n",
      "  warnings.warn(message, category=ElasticsearchWarning)\n"
     ]
    },
    {
     "data": {
      "text/plain": [
       "{'acknowledged': True, 'shards_acknowledged': True, 'index': 'dictionary'}"
      ]
     },
     "execution_count": 3,
     "metadata": {},
     "output_type": "execute_result"
    }
   ],
   "source": [
    "# 실패\n",
    "\n",
    "es.indices.create(\n",
    "    index='dictionary',\n",
    "    body={\n",
    "        # 한글 형태소 분석기 nori를 통해 데이터를 토크나이징할 수 있도록 설정\n",
    "        \"settings\": {\n",
    "            \"index\": {\n",
    "                \"analysis\": {\n",
    "                    \"analyzer\": {\n",
    "                        \"my_analyzer\": {\n",
    "                            \"type\": \"custom\",\n",
    "                            \"tokenizer\": \"nori_tokenizer\"\n",
    "                        }\n",
    "                    }\n",
    "                }\n",
    "            }\n",
    "        },\n",
    "        # Elasticsearch의 인덱스에 들어가는 데이터의 타입을 정의 \n",
    "        # 설정해준 분석기 ‘my_analyzer’로 Restaurant과 Review를 분석할 수 있도록 설정\n",
    "        \"mappings\": {\n",
    "            \"properties\": {\n",
    "                \"도로명주소\": {\n",
    "                    \"type\": \"text\",\n",
    "                    \"analyzer\": \"my_analyzer\"\n",
    "                },\n",
    "                \"커버리지\": {\n",
    "                    \"type\": \"text\"\n",
    "                },\n",
    "                \"location\": {\n",
    "                    \"type\": \"point\"\n",
    "                }\n",
    "            }\n",
    "        }\n",
    "    }\n",
    "    )\n",
    "\n",
    "# with open('urldata.csv') as f:\n",
    "#     reader = csv.DictReader(f)\n",
    "#     helpers.bulk(es,reader,index=\"dictionary\")"
   ]
  },
  {
   "cell_type": "code",
   "execution_count": 4,
   "id": "2d51ebd8-3527-494d-bfdd-df861854a566",
   "metadata": {},
   "outputs": [
    {
     "name": "stderr",
     "output_type": "stream",
     "text": [
      "C:\\Users\\MongTa\\AppData\\Local\\Temp/ipykernel_13468/3848266910.py:7: DeprecationWarning: The 'body' parameter is deprecated for the 'index' API and will be removed in a future version. Instead use the 'document' parameter. See https://github.com/elastic/elasticsearch-py/issues/1698 for more information\n",
      "  es.index(index=\"dictionary\",\n"
     ]
    },
    {
     "data": {
      "text/plain": [
       "{'acknowledged': True}"
      ]
     },
     "execution_count": 4,
     "metadata": {},
     "output_type": "execute_result"
    }
   ],
   "source": [
    "from datetime import datetime\n",
    "\n",
    "for i in range(len(info['NO'])):\n",
    "    es.index(index=\"dictionary\", \n",
    "        doc_type='_doc', \n",
    "        document={'NO':info['NO'][i],\n",
    "        '우선순위':info['우선순위'][i], \n",
    "        'K':info['K'][i],\n",
    "        'lon':info['lon'][i], \n",
    "        'lat':info['lat'][i],\n",
    "        '시':info['시'][i],\n",
    "        '구':info['구'][i],\n",
    "        '커버리지':info['커버리지'][i],\n",
    "        'id':info['id'][i],\n",
    "        '도로명주소':info['도로명주소'][i],\n",
    "        'location':info['location'][i]})\n",
    "\n",
    "es.indices.put_alias(index = \"dictionary2\")\n"
   ]
  },
  {
   "cell_type": "code",
   "execution_count": null,
   "id": "44ccd3a2-5e0d-40fe-b868-b54c07d7fe49",
   "metadata": {},
   "outputs": [],
   "source": []
  }
 ],
 "metadata": {
  "kernelspec": {
   "display_name": "mongta",
   "language": "python",
   "name": "mongta"
  },
  "language_info": {
   "codemirror_mode": {
    "name": "ipython",
    "version": 3
   },
   "file_extension": ".py",
   "mimetype": "text/x-python",
   "name": "python",
   "nbconvert_exporter": "python",
   "pygments_lexer": "ipython3",
   "version": "3.8.12"
  }
 },
 "nbformat": 4,
 "nbformat_minor": 5
}

{
 "cells": [
  {
   "cell_type": "code",
   "execution_count": 1,
   "id": "8bb51746-37ae-42da-be67-90069c1113dc",
   "metadata": {},
   "outputs": [],
   "source": [
    "from pynori.korean_analyzer import KoreanAnalyzer\n",
    "nori = KoreanAnalyzer(\n",
    "           decompound_mode='DISCARD', # DISCARD or MIXED or NONE\n",
    "           infl_decompound_mode='DISCARD', # DISCARD or MIXED or NONE\n",
    "           discard_punctuation=True,\n",
    "           output_unknown_unigrams=False,\n",
    "           pos_filter=False, stop_tags=['JKS', 'JKB', 'VV', 'EF'],\n",
    "           synonym_filter=False, mode_synonym='NORM', # NORM or EXTENSION\n",
    "       ) \n"
   ]
  },
  {
   "cell_type": "code",
   "execution_count": 2,
   "id": "529ed122-93c1-4ffb-94a4-b3e921981a9f",
   "metadata": {},
   "outputs": [
    {
     "name": "stdout",
     "output_type": "stream",
     "text": [
      "['가볍', 'ᆫ', '냉장', '고']\n"
     ]
    }
   ],
   "source": [
    "print(nori.do_analysis(\"가벼운 냉장고\")['termAtt'])\n",
    "# ['가볍', 'ᆫ', '냉장', '고']"
   ]
  },
  {
   "cell_type": "code",
   "execution_count": 3,
   "id": "448f624e-9950-425c-8967-3b094c4ecf0c",
   "metadata": {},
   "outputs": [
    {
     "name": "stdout",
     "output_type": "stream",
     "text": [
      "['가벼운', '가볍', 'ᆫ', '냉장고', '냉장', '고']\n"
     ]
    }
   ],
   "source": [
    "## 토크나이저 옵션 세팅\n",
    "nori.set_option_tokenizer(decompound_mode='MIXED', infl_decompound_mode='MIXED')\n",
    "print(nori.do_analysis(\"가벼운 냉장고\")['termAtt'])\n",
    "# ['가벼운', '가볍', 'ᆫ', '냉장고', '냉장', '고']"
   ]
  },
  {
   "cell_type": "code",
   "execution_count": 4,
   "id": "98b5ac09-d866-4707-8ddd-f31d991af378",
   "metadata": {},
   "outputs": [
    {
     "name": "stdout",
     "output_type": "stream",
     "text": [
      "['냉장고', '냉장', '고']\n"
     ]
    }
   ],
   "source": [
    "## POS 필터 옵션 세팅\n",
    "nori.set_option_filter(pos_filter=True, stop_tags=['ETM', 'VA'])\n",
    "print(nori.do_analysis(\"가벼운 냉장고\")['termAtt'])\n",
    "# ['냉장고', '냉장', '고']"
   ]
  },
  {
   "cell_type": "code",
   "execution_count": 5,
   "id": "2fc4e354-2e4f-4f37-8a8b-9462b7852b0a",
   "metadata": {},
   "outputs": [
    {
     "name": "stdout",
     "output_type": "stream",
     "text": [
      "['자연어처리', '자연어', '처리', '개발자', '개발', '자']\n"
     ]
    }
   ],
   "source": [
    "## 동의어 필터 옵션 세팅\n",
    "nori.set_option_filter(synonym_filter=True, mode_synonym='NORM')\n",
    "print(nori.do_analysis(\"NLP 개발자\")['termAtt'])\n",
    "# ['자연어처리', '자연어', '처리', '개발자', '개발', '자']"
   ]
  },
  {
   "cell_type": "code",
   "execution_count": 6,
   "id": "b56032a3-7643-46a8-afc5-52e4d2efaaa2",
   "metadata": {},
   "outputs": [
    {
     "name": "stdout",
     "output_type": "stream",
     "text": [
      "['인공', '지능', 'ai', 'aritificial', 'intelligence', '개발', '자', 'developer']\n"
     ]
    }
   ],
   "source": [
    "nori.set_option_tokenizer(decompound_mode='DISCARD', infl_decompound_mode='DISCARD') # DISCARD 로 변경.\n",
    "nori.set_option_filter(mode_synonym='EXTENSION')\n",
    "print(nori.do_analysis(\"AI 개발자\")['termAtt'])\n",
    "# ['인공', '지능', 'ai', 'aritificial', 'intelligence', '개발', '자', 'developer']"
   ]
  },
  {
   "cell_type": "code",
   "execution_count": 7,
   "id": "68cddc33-308b-4ed9-947b-3d95dbe06d3a",
   "metadata": {},
   "outputs": [
    {
     "name": "stdout",
     "output_type": "stream",
     "text": [
      "['레드', 'red', '빨강', '가방']\n"
     ]
    }
   ],
   "source": [
    "nori.set_option_tokenizer(decompound_mode='DISCARD', infl_decompound_mode='DISCARD') # DISCARD 로 변경.\n",
    "nori.set_option_filter(mode_synonym='EXTENSION')\n",
    "print(nori.do_analysis(\"레드 가방\")['termAtt'])"
   ]
  },
  {
   "cell_type": "code",
   "execution_count": 8,
   "id": "0f1ddd31-aa15-42f8-a2ce-f1c017f2dfaf",
   "metadata": {},
   "outputs": [
    {
     "name": "stdout",
     "output_type": "stream",
     "text": [
      "['레드', 'red', '빨강', '가방']\n"
     ]
    }
   ],
   "source": [
    "nori.set_option_tokenizer(decompound_mode='DISCARD', infl_decompound_mode='DISCARD') # DISCARD 로 변경.\n",
    "nori.set_option_filter(mode_synonym='EXTENSION')\n",
    "print(nori.do_analysis(\"red 가방\")['termAtt'])"
   ]
  },
  {
   "cell_type": "code",
   "execution_count": 9,
   "id": "11cc62fc-0c48-4341-ad42-a1ffa4bbe3a7",
   "metadata": {},
   "outputs": [
    {
     "name": "stdout",
     "output_type": "stream",
     "text": [
      "['elasticsearch', '개발', '자', 'developer']\n"
     ]
    }
   ],
   "source": [
    "nori.set_option_tokenizer(decompound_mode='DISCARD', infl_decompound_mode='DISCARD') # DISCARD 로 변경.\n",
    "nori.set_option_filter(mode_synonym='EXTENSION')\n",
    "print(nori.do_analysis(\"elasticsearch 개발자\")['termAtt'])"
   ]
  },
  {
   "cell_type": "markdown",
   "id": "d463ace7-97e2-4137-953c-b5b6a4efa2d4",
   "metadata": {},
   "source": [
    "### 왜 개발자는 developer로 변환이 되는데 레드는 red로 변환이 되지 않을까??\n",
    "### https://github.com/gritmind/python-nori 를 보고 공부한 결과 내가 동의어사전을 바꾸지 않았음을 알게 되었다.\n",
    "### pynori 동의어 사전.pdf에 자세한 사항을 올려놓을 예정이다."
   ]
  },
  {
   "cell_type": "code",
   "execution_count": null,
   "id": "e426b959-a717-410c-b1a9-b838e411b8d5",
   "metadata": {},
   "outputs": [],
   "source": []
  }
 ],
 "metadata": {
  "kernelspec": {
   "display_name": "mongta",
   "language": "python",
   "name": "mongta"
  },
  "language_info": {
   "codemirror_mode": {
    "name": "ipython",
    "version": 3
   },
   "file_extension": ".py",
   "mimetype": "text/x-python",
   "name": "python",
   "nbconvert_exporter": "python",
   "pygments_lexer": "ipython3",
   "version": "3.8.12"
  }
 },
 "nbformat": 4,
 "nbformat_minor": 5
}
